{
 "cells": [
  {
   "cell_type": "code",
   "execution_count": 2,
   "id": "ab1620da",
   "metadata": {},
   "outputs": [],
   "source": [
    "import pandas as pd"
   ]
  },
  {
   "cell_type": "code",
   "execution_count": 3,
   "id": "d8bdf949",
   "metadata": {},
   "outputs": [],
   "source": [
    "base = pd.read_csv('shipping_ecommerce.csv')"
   ]
  },
  {
   "cell_type": "code",
   "execution_count": 4,
   "id": "51a1a6a5",
   "metadata": {},
   "outputs": [],
   "source": [
    "base = base.rename(columns={'Customer_care_calls':'Chamadas de atendimento ao cliente','Customer_rating':'Avaliação do cliente','Prior_purchases':'Compras anteriores','Discount_offered':'Desconto oferecido','Weight_in_gms':'Peso em gramas','Warehouse_block':'Local armazenado','Mode_of_Shipment':'Modo de envio','Product_importance':'Importância do produto','Gender':'Gênero','Class':'Classe'})"
   ]
  },
  {
   "cell_type": "code",
   "execution_count": 5,
   "id": "d5608a69",
   "metadata": {},
   "outputs": [
    {
     "data": {
      "text/plain": [
       "range(0, 10998)"
      ]
     },
     "execution_count": 5,
     "metadata": {},
     "output_type": "execute_result"
    }
   ],
   "source": [
    "lista= range(len(base))\n",
    "base['Código'] =  1  \n",
    "lista"
   ]
  },
  {
   "cell_type": "code",
   "execution_count": 6,
   "id": "45930b1f",
   "metadata": {},
   "outputs": [],
   "source": [
    "base.loc[base['Importância do produto']=='medium','Importância do produto'] = 2\n",
    "base.loc[base['Importância do produto']=='low','Importância do produto'] = 1\n",
    "base.loc[base['Importância do produto']=='high','Importância do produto'] = 3"
   ]
  },
  {
   "cell_type": "code",
   "execution_count": 7,
   "id": "6a39a762",
   "metadata": {},
   "outputs": [
    {
     "data": {
      "text/html": [
       "<div>\n",
       "<style scoped>\n",
       "    .dataframe tbody tr th:only-of-type {\n",
       "        vertical-align: middle;\n",
       "    }\n",
       "\n",
       "    .dataframe tbody tr th {\n",
       "        vertical-align: top;\n",
       "    }\n",
       "\n",
       "    .dataframe thead th {\n",
       "        text-align: right;\n",
       "    }\n",
       "</style>\n",
       "<table border=\"1\" class=\"dataframe\">\n",
       "  <thead>\n",
       "    <tr style=\"text-align: right;\">\n",
       "      <th></th>\n",
       "      <th>Chamadas de atendimento ao cliente</th>\n",
       "      <th>Avaliação do cliente</th>\n",
       "      <th>Compras anteriores</th>\n",
       "      <th>Desconto oferecido</th>\n",
       "      <th>Peso em gramas</th>\n",
       "      <th>Local armazenado</th>\n",
       "      <th>Modo de envio</th>\n",
       "      <th>Importância do produto</th>\n",
       "      <th>Gênero</th>\n",
       "      <th>Classe</th>\n",
       "      <th>Código</th>\n",
       "    </tr>\n",
       "  </thead>\n",
       "  <tbody>\n",
       "    <tr>\n",
       "      <th>0</th>\n",
       "      <td>5</td>\n",
       "      <td>4</td>\n",
       "      <td>2</td>\n",
       "      <td>10</td>\n",
       "      <td>5395</td>\n",
       "      <td>A</td>\n",
       "      <td>Ship</td>\n",
       "      <td>2</td>\n",
       "      <td>M</td>\n",
       "      <td>1</td>\n",
       "      <td>1</td>\n",
       "    </tr>\n",
       "    <tr>\n",
       "      <th>1</th>\n",
       "      <td>4</td>\n",
       "      <td>3</td>\n",
       "      <td>2</td>\n",
       "      <td>6</td>\n",
       "      <td>5867</td>\n",
       "      <td>F</td>\n",
       "      <td>Ship</td>\n",
       "      <td>2</td>\n",
       "      <td>F</td>\n",
       "      <td>0</td>\n",
       "      <td>1</td>\n",
       "    </tr>\n",
       "    <tr>\n",
       "      <th>2</th>\n",
       "      <td>3</td>\n",
       "      <td>4</td>\n",
       "      <td>2</td>\n",
       "      <td>2</td>\n",
       "      <td>5957</td>\n",
       "      <td>D</td>\n",
       "      <td>Ship</td>\n",
       "      <td>2</td>\n",
       "      <td>M</td>\n",
       "      <td>0</td>\n",
       "      <td>1</td>\n",
       "    </tr>\n",
       "    <tr>\n",
       "      <th>3</th>\n",
       "      <td>3</td>\n",
       "      <td>1</td>\n",
       "      <td>2</td>\n",
       "      <td>27</td>\n",
       "      <td>2551</td>\n",
       "      <td>D</td>\n",
       "      <td>Ship</td>\n",
       "      <td>2</td>\n",
       "      <td>M</td>\n",
       "      <td>1</td>\n",
       "      <td>1</td>\n",
       "    </tr>\n",
       "    <tr>\n",
       "      <th>4</th>\n",
       "      <td>7</td>\n",
       "      <td>5</td>\n",
       "      <td>4</td>\n",
       "      <td>9</td>\n",
       "      <td>1329</td>\n",
       "      <td>B</td>\n",
       "      <td>Ship</td>\n",
       "      <td>2</td>\n",
       "      <td>M</td>\n",
       "      <td>1</td>\n",
       "      <td>1</td>\n",
       "    </tr>\n",
       "    <tr>\n",
       "      <th>...</th>\n",
       "      <td>...</td>\n",
       "      <td>...</td>\n",
       "      <td>...</td>\n",
       "      <td>...</td>\n",
       "      <td>...</td>\n",
       "      <td>...</td>\n",
       "      <td>...</td>\n",
       "      <td>...</td>\n",
       "      <td>...</td>\n",
       "      <td>...</td>\n",
       "      <td>...</td>\n",
       "    </tr>\n",
       "    <tr>\n",
       "      <th>10993</th>\n",
       "      <td>3</td>\n",
       "      <td>5</td>\n",
       "      <td>3</td>\n",
       "      <td>1</td>\n",
       "      <td>5024</td>\n",
       "      <td>F</td>\n",
       "      <td>Road</td>\n",
       "      <td>2</td>\n",
       "      <td>M</td>\n",
       "      <td>1</td>\n",
       "      <td>1</td>\n",
       "    </tr>\n",
       "    <tr>\n",
       "      <th>10994</th>\n",
       "      <td>4</td>\n",
       "      <td>1</td>\n",
       "      <td>5</td>\n",
       "      <td>48</td>\n",
       "      <td>2399</td>\n",
       "      <td>D</td>\n",
       "      <td>Flight</td>\n",
       "      <td>1</td>\n",
       "      <td>M</td>\n",
       "      <td>1</td>\n",
       "      <td>1</td>\n",
       "    </tr>\n",
       "    <tr>\n",
       "      <th>10995</th>\n",
       "      <td>3</td>\n",
       "      <td>2</td>\n",
       "      <td>10</td>\n",
       "      <td>25</td>\n",
       "      <td>1548</td>\n",
       "      <td>F</td>\n",
       "      <td>Ship</td>\n",
       "      <td>2</td>\n",
       "      <td>M</td>\n",
       "      <td>1</td>\n",
       "      <td>1</td>\n",
       "    </tr>\n",
       "    <tr>\n",
       "      <th>10996</th>\n",
       "      <td>3</td>\n",
       "      <td>1</td>\n",
       "      <td>3</td>\n",
       "      <td>11</td>\n",
       "      <td>2194</td>\n",
       "      <td>F</td>\n",
       "      <td>Flight</td>\n",
       "      <td>2</td>\n",
       "      <td>M</td>\n",
       "      <td>1</td>\n",
       "      <td>1</td>\n",
       "    </tr>\n",
       "    <tr>\n",
       "      <th>10997</th>\n",
       "      <td>4</td>\n",
       "      <td>3</td>\n",
       "      <td>3</td>\n",
       "      <td>8</td>\n",
       "      <td>3318</td>\n",
       "      <td>B</td>\n",
       "      <td>Ship</td>\n",
       "      <td>2</td>\n",
       "      <td>M</td>\n",
       "      <td>1</td>\n",
       "      <td>1</td>\n",
       "    </tr>\n",
       "  </tbody>\n",
       "</table>\n",
       "<p>10998 rows × 11 columns</p>\n",
       "</div>"
      ],
      "text/plain": [
       "       Chamadas de atendimento ao cliente  Avaliação do cliente  \\\n",
       "0                                       5                     4   \n",
       "1                                       4                     3   \n",
       "2                                       3                     4   \n",
       "3                                       3                     1   \n",
       "4                                       7                     5   \n",
       "...                                   ...                   ...   \n",
       "10993                                   3                     5   \n",
       "10994                                   4                     1   \n",
       "10995                                   3                     2   \n",
       "10996                                   3                     1   \n",
       "10997                                   4                     3   \n",
       "\n",
       "       Compras anteriores  Desconto oferecido  Peso em gramas  \\\n",
       "0                       2                  10            5395   \n",
       "1                       2                   6            5867   \n",
       "2                       2                   2            5957   \n",
       "3                       2                  27            2551   \n",
       "4                       4                   9            1329   \n",
       "...                   ...                 ...             ...   \n",
       "10993                   3                   1            5024   \n",
       "10994                   5                  48            2399   \n",
       "10995                  10                  25            1548   \n",
       "10996                   3                  11            2194   \n",
       "10997                   3                   8            3318   \n",
       "\n",
       "      Local armazenado Modo de envio Importância do produto Gênero  Classe  \\\n",
       "0                    A          Ship                      2      M       1   \n",
       "1                    F          Ship                      2      F       0   \n",
       "2                    D          Ship                      2      M       0   \n",
       "3                    D          Ship                      2      M       1   \n",
       "4                    B          Ship                      2      M       1   \n",
       "...                ...           ...                    ...    ...     ...   \n",
       "10993                F          Road                      2      M       1   \n",
       "10994                D        Flight                      1      M       1   \n",
       "10995                F          Ship                      2      M       1   \n",
       "10996                F        Flight                      2      M       1   \n",
       "10997                B          Ship                      2      M       1   \n",
       "\n",
       "       Código  \n",
       "0           1  \n",
       "1           1  \n",
       "2           1  \n",
       "3           1  \n",
       "4           1  \n",
       "...       ...  \n",
       "10993       1  \n",
       "10994       1  \n",
       "10995       1  \n",
       "10996       1  \n",
       "10997       1  \n",
       "\n",
       "[10998 rows x 11 columns]"
      ]
     },
     "execution_count": 7,
     "metadata": {},
     "output_type": "execute_result"
    }
   ],
   "source": [
    "base"
   ]
  },
  {
   "cell_type": "code",
   "execution_count": 8,
   "id": "dec8f6d5",
   "metadata": {},
   "outputs": [
    {
     "data": {
      "text/plain": [
       "2.990452809601746"
      ]
     },
     "execution_count": 8,
     "metadata": {},
     "output_type": "execute_result"
    }
   ],
   "source": [
    "base['Avaliação do cliente'].mean()"
   ]
  },
  {
   "cell_type": "code",
   "execution_count": 9,
   "id": "f6b0d30d",
   "metadata": {},
   "outputs": [],
   "source": [
    "pesoXimport = base.groupby('Código')[['Importância do produto','Peso em gramas']].mean()"
   ]
  },
  {
   "cell_type": "code",
   "execution_count": 10,
   "id": "197318fa",
   "metadata": {},
   "outputs": [],
   "source": [
    "importancia = base['Importância do produto']"
   ]
  },
  {
   "cell_type": "code",
   "execution_count": 11,
   "id": "c2356020",
   "metadata": {},
   "outputs": [],
   "source": [
    "pesoXimport['Importância do produto'] = importancia"
   ]
  },
  {
   "cell_type": "code",
   "execution_count": 12,
   "id": "7be65702",
   "metadata": {},
   "outputs": [
    {
     "data": {
      "text/html": [
       "<div>\n",
       "<style scoped>\n",
       "    .dataframe tbody tr th:only-of-type {\n",
       "        vertical-align: middle;\n",
       "    }\n",
       "\n",
       "    .dataframe tbody tr th {\n",
       "        vertical-align: top;\n",
       "    }\n",
       "\n",
       "    .dataframe thead th {\n",
       "        text-align: right;\n",
       "    }\n",
       "</style>\n",
       "<table border=\"1\" class=\"dataframe\">\n",
       "  <thead>\n",
       "    <tr style=\"text-align: right;\">\n",
       "      <th></th>\n",
       "      <th>Peso em gramas</th>\n",
       "      <th>Importância do produto</th>\n",
       "    </tr>\n",
       "    <tr>\n",
       "      <th>Código</th>\n",
       "      <th></th>\n",
       "      <th></th>\n",
       "    </tr>\n",
       "  </thead>\n",
       "  <tbody>\n",
       "    <tr>\n",
       "      <th>1</th>\n",
       "      <td>3633.873522</td>\n",
       "      <td>2</td>\n",
       "    </tr>\n",
       "  </tbody>\n",
       "</table>\n",
       "</div>"
      ],
      "text/plain": [
       "        Peso em gramas Importância do produto\n",
       "Código                                       \n",
       "1          3633.873522                      2"
      ]
     },
     "execution_count": 12,
     "metadata": {},
     "output_type": "execute_result"
    }
   ],
   "source": [
    "pesoXimport.sort_values('Importância do produto')"
   ]
  },
  {
   "cell_type": "code",
   "execution_count": 13,
   "id": "02d8a21e",
   "metadata": {},
   "outputs": [
    {
     "data": {
      "text/html": [
       "<div>\n",
       "<style scoped>\n",
       "    .dataframe tbody tr th:only-of-type {\n",
       "        vertical-align: middle;\n",
       "    }\n",
       "\n",
       "    .dataframe tbody tr th {\n",
       "        vertical-align: top;\n",
       "    }\n",
       "\n",
       "    .dataframe thead th {\n",
       "        text-align: right;\n",
       "    }\n",
       "</style>\n",
       "<table border=\"1\" class=\"dataframe\">\n",
       "  <thead>\n",
       "    <tr style=\"text-align: right;\">\n",
       "      <th></th>\n",
       "      <th>Peso em gramas</th>\n",
       "      <th>Importância do produto</th>\n",
       "    </tr>\n",
       "    <tr>\n",
       "      <th>Código</th>\n",
       "      <th></th>\n",
       "      <th></th>\n",
       "    </tr>\n",
       "  </thead>\n",
       "  <tbody>\n",
       "  </tbody>\n",
       "</table>\n",
       "</div>"
      ],
      "text/plain": [
       "Empty DataFrame\n",
       "Columns: [Peso em gramas, Importância do produto]\n",
       "Index: []"
      ]
     },
     "execution_count": 13,
     "metadata": {},
     "output_type": "execute_result"
    }
   ],
   "source": [
    "pesoXimport[pesoXimport['Importância do produto']== 3].sort_values('Peso em gramas', ascending = False)"
   ]
  },
  {
   "cell_type": "code",
   "execution_count": 14,
   "id": "fbe80053",
   "metadata": {},
   "outputs": [],
   "source": [
    "descXav = base.groupby('Código')[['Desconto oferecido','Avaliação do cliente']].mean()"
   ]
  },
  {
   "cell_type": "code",
   "execution_count": 15,
   "id": "ed0e10d7",
   "metadata": {},
   "outputs": [
    {
     "data": {
      "text/plain": [
       "nan"
      ]
     },
     "execution_count": 15,
     "metadata": {},
     "output_type": "execute_result"
    }
   ],
   "source": [
    "descXav.loc[descXav['Desconto oferecido'] ==32,'Avaliação do cliente'].mean()"
   ]
  },
  {
   "cell_type": "code",
   "execution_count": 16,
   "id": "22473e19",
   "metadata": {},
   "outputs": [
    {
     "data": {
      "text/plain": [
       "13.373704309874523"
      ]
     },
     "execution_count": 16,
     "metadata": {},
     "output_type": "execute_result"
    }
   ],
   "source": [
    "descXav['Desconto oferecido'].mean()"
   ]
  },
  {
   "cell_type": "code",
   "execution_count": 17,
   "id": "ebb229c8",
   "metadata": {},
   "outputs": [],
   "source": [
    "descXav = base.groupby('Avaliação do cliente').mean()\n"
   ]
  },
  {
   "cell_type": "code",
   "execution_count": 18,
   "id": "e91ce644",
   "metadata": {},
   "outputs": [],
   "source": [
    "descXav = descXav.sort_values('Compras anteriores')\n"
   ]
  },
  {
   "cell_type": "code",
   "execution_count": 19,
   "id": "94458c96",
   "metadata": {},
   "outputs": [
    {
     "data": {
      "text/html": [
       "<div>\n",
       "<style scoped>\n",
       "    .dataframe tbody tr th:only-of-type {\n",
       "        vertical-align: middle;\n",
       "    }\n",
       "\n",
       "    .dataframe tbody tr th {\n",
       "        vertical-align: top;\n",
       "    }\n",
       "\n",
       "    .dataframe thead th {\n",
       "        text-align: right;\n",
       "    }\n",
       "</style>\n",
       "<table border=\"1\" class=\"dataframe\">\n",
       "  <thead>\n",
       "    <tr style=\"text-align: right;\">\n",
       "      <th></th>\n",
       "      <th>Chamadas de atendimento ao cliente</th>\n",
       "      <th>Compras anteriores</th>\n",
       "      <th>Desconto oferecido</th>\n",
       "      <th>Peso em gramas</th>\n",
       "      <th>Classe</th>\n",
       "      <th>Código</th>\n",
       "    </tr>\n",
       "    <tr>\n",
       "      <th>Avaliação do cliente</th>\n",
       "      <th></th>\n",
       "      <th></th>\n",
       "      <th></th>\n",
       "      <th></th>\n",
       "      <th></th>\n",
       "      <th></th>\n",
       "    </tr>\n",
       "  </thead>\n",
       "  <tbody>\n",
       "    <tr>\n",
       "      <th>1</th>\n",
       "      <td>4.036242</td>\n",
       "      <td>3.529306</td>\n",
       "      <td>13.458166</td>\n",
       "      <td>3654.797315</td>\n",
       "      <td>0.587472</td>\n",
       "      <td>1.0</td>\n",
       "    </tr>\n",
       "    <tr>\n",
       "      <th>2</th>\n",
       "      <td>4.048961</td>\n",
       "      <td>3.559353</td>\n",
       "      <td>13.687760</td>\n",
       "      <td>3585.758891</td>\n",
       "      <td>0.587991</td>\n",
       "      <td>1.0</td>\n",
       "    </tr>\n",
       "    <tr>\n",
       "      <th>3</th>\n",
       "      <td>4.058062</td>\n",
       "      <td>3.576597</td>\n",
       "      <td>12.979902</td>\n",
       "      <td>3640.098258</td>\n",
       "      <td>0.606074</td>\n",
       "      <td>1.0</td>\n",
       "    </tr>\n",
       "    <tr>\n",
       "      <th>5</th>\n",
       "      <td>4.090742</td>\n",
       "      <td>3.585905</td>\n",
       "      <td>13.494703</td>\n",
       "      <td>3586.005067</td>\n",
       "      <td>0.606633</td>\n",
       "      <td>1.0</td>\n",
       "    </tr>\n",
       "    <tr>\n",
       "      <th>4</th>\n",
       "      <td>4.039305</td>\n",
       "      <td>3.587294</td>\n",
       "      <td>13.259598</td>\n",
       "      <td>3701.235832</td>\n",
       "      <td>0.595521</td>\n",
       "      <td>1.0</td>\n",
       "    </tr>\n",
       "  </tbody>\n",
       "</table>\n",
       "</div>"
      ],
      "text/plain": [
       "                      Chamadas de atendimento ao cliente  Compras anteriores  \\\n",
       "Avaliação do cliente                                                           \n",
       "1                                               4.036242            3.529306   \n",
       "2                                               4.048961            3.559353   \n",
       "3                                               4.058062            3.576597   \n",
       "5                                               4.090742            3.585905   \n",
       "4                                               4.039305            3.587294   \n",
       "\n",
       "                      Desconto oferecido  Peso em gramas    Classe  Código  \n",
       "Avaliação do cliente                                                        \n",
       "1                              13.458166     3654.797315  0.587472     1.0  \n",
       "2                              13.687760     3585.758891  0.587991     1.0  \n",
       "3                              12.979902     3640.098258  0.606074     1.0  \n",
       "5                              13.494703     3586.005067  0.606633     1.0  \n",
       "4                              13.259598     3701.235832  0.595521     1.0  "
      ]
     },
     "execution_count": 19,
     "metadata": {},
     "output_type": "execute_result"
    }
   ],
   "source": [
    "descXav"
   ]
  },
  {
   "cell_type": "code",
   "execution_count": 20,
   "id": "b8392b4c",
   "metadata": {},
   "outputs": [],
   "source": [
    "aux = base.groupby('Gênero')['Código'].sum()"
   ]
  },
  {
   "cell_type": "code",
   "execution_count": 21,
   "id": "247ed232",
   "metadata": {},
   "outputs": [
    {
     "data": {
      "text/plain": [
       "Gênero\n",
       "F    5544\n",
       "M    5454\n",
       "Name: Código, dtype: int64"
      ]
     },
     "execution_count": 21,
     "metadata": {},
     "output_type": "execute_result"
    }
   ],
   "source": [
    "aux"
   ]
  },
  {
   "cell_type": "code",
   "execution_count": 22,
   "id": "640c7aa7",
   "metadata": {},
   "outputs": [],
   "source": [
    "aux = aux.apply(lambda x:(x /aux.sum())*100)\n",
    "aux=aux.map('{:.2f}%'.format) "
   ]
  },
  {
   "cell_type": "code",
   "execution_count": 23,
   "id": "35604e8e",
   "metadata": {},
   "outputs": [
    {
     "data": {
      "text/plain": [
       "Gênero\n",
       "F    50.41%\n",
       "M    49.59%\n",
       "Name: Código, dtype: object"
      ]
     },
     "execution_count": 23,
     "metadata": {},
     "output_type": "execute_result"
    }
   ],
   "source": [
    "aux"
   ]
  },
  {
   "cell_type": "code",
   "execution_count": 24,
   "id": "ffd0afc1",
   "metadata": {},
   "outputs": [
    {
     "data": {
      "text/html": [
       "<div>\n",
       "<style scoped>\n",
       "    .dataframe tbody tr th:only-of-type {\n",
       "        vertical-align: middle;\n",
       "    }\n",
       "\n",
       "    .dataframe tbody tr th {\n",
       "        vertical-align: top;\n",
       "    }\n",
       "\n",
       "    .dataframe thead th {\n",
       "        text-align: right;\n",
       "    }\n",
       "</style>\n",
       "<table border=\"1\" class=\"dataframe\">\n",
       "  <thead>\n",
       "    <tr style=\"text-align: right;\">\n",
       "      <th></th>\n",
       "      <th>Chamadas de atendimento ao cliente</th>\n",
       "      <th>Avaliação do cliente</th>\n",
       "      <th>Compras anteriores</th>\n",
       "      <th>Desconto oferecido</th>\n",
       "      <th>Peso em gramas</th>\n",
       "      <th>Local armazenado</th>\n",
       "      <th>Modo de envio</th>\n",
       "      <th>Importância do produto</th>\n",
       "      <th>Gênero</th>\n",
       "      <th>Classe</th>\n",
       "      <th>Código</th>\n",
       "    </tr>\n",
       "  </thead>\n",
       "  <tbody>\n",
       "    <tr>\n",
       "      <th>0</th>\n",
       "      <td>5</td>\n",
       "      <td>4</td>\n",
       "      <td>2</td>\n",
       "      <td>10</td>\n",
       "      <td>5395</td>\n",
       "      <td>A</td>\n",
       "      <td>Ship</td>\n",
       "      <td>2</td>\n",
       "      <td>M</td>\n",
       "      <td>1</td>\n",
       "      <td>1</td>\n",
       "    </tr>\n",
       "    <tr>\n",
       "      <th>1</th>\n",
       "      <td>4</td>\n",
       "      <td>3</td>\n",
       "      <td>2</td>\n",
       "      <td>6</td>\n",
       "      <td>5867</td>\n",
       "      <td>F</td>\n",
       "      <td>Ship</td>\n",
       "      <td>2</td>\n",
       "      <td>F</td>\n",
       "      <td>0</td>\n",
       "      <td>1</td>\n",
       "    </tr>\n",
       "    <tr>\n",
       "      <th>2</th>\n",
       "      <td>3</td>\n",
       "      <td>4</td>\n",
       "      <td>2</td>\n",
       "      <td>2</td>\n",
       "      <td>5957</td>\n",
       "      <td>D</td>\n",
       "      <td>Ship</td>\n",
       "      <td>2</td>\n",
       "      <td>M</td>\n",
       "      <td>0</td>\n",
       "      <td>1</td>\n",
       "    </tr>\n",
       "    <tr>\n",
       "      <th>3</th>\n",
       "      <td>3</td>\n",
       "      <td>1</td>\n",
       "      <td>2</td>\n",
       "      <td>27</td>\n",
       "      <td>2551</td>\n",
       "      <td>D</td>\n",
       "      <td>Ship</td>\n",
       "      <td>2</td>\n",
       "      <td>M</td>\n",
       "      <td>1</td>\n",
       "      <td>1</td>\n",
       "    </tr>\n",
       "    <tr>\n",
       "      <th>4</th>\n",
       "      <td>7</td>\n",
       "      <td>5</td>\n",
       "      <td>4</td>\n",
       "      <td>9</td>\n",
       "      <td>1329</td>\n",
       "      <td>B</td>\n",
       "      <td>Ship</td>\n",
       "      <td>2</td>\n",
       "      <td>M</td>\n",
       "      <td>1</td>\n",
       "      <td>1</td>\n",
       "    </tr>\n",
       "    <tr>\n",
       "      <th>...</th>\n",
       "      <td>...</td>\n",
       "      <td>...</td>\n",
       "      <td>...</td>\n",
       "      <td>...</td>\n",
       "      <td>...</td>\n",
       "      <td>...</td>\n",
       "      <td>...</td>\n",
       "      <td>...</td>\n",
       "      <td>...</td>\n",
       "      <td>...</td>\n",
       "      <td>...</td>\n",
       "    </tr>\n",
       "    <tr>\n",
       "      <th>10993</th>\n",
       "      <td>3</td>\n",
       "      <td>5</td>\n",
       "      <td>3</td>\n",
       "      <td>1</td>\n",
       "      <td>5024</td>\n",
       "      <td>F</td>\n",
       "      <td>Road</td>\n",
       "      <td>2</td>\n",
       "      <td>M</td>\n",
       "      <td>1</td>\n",
       "      <td>1</td>\n",
       "    </tr>\n",
       "    <tr>\n",
       "      <th>10994</th>\n",
       "      <td>4</td>\n",
       "      <td>1</td>\n",
       "      <td>5</td>\n",
       "      <td>48</td>\n",
       "      <td>2399</td>\n",
       "      <td>D</td>\n",
       "      <td>Flight</td>\n",
       "      <td>1</td>\n",
       "      <td>M</td>\n",
       "      <td>1</td>\n",
       "      <td>1</td>\n",
       "    </tr>\n",
       "    <tr>\n",
       "      <th>10995</th>\n",
       "      <td>3</td>\n",
       "      <td>2</td>\n",
       "      <td>10</td>\n",
       "      <td>25</td>\n",
       "      <td>1548</td>\n",
       "      <td>F</td>\n",
       "      <td>Ship</td>\n",
       "      <td>2</td>\n",
       "      <td>M</td>\n",
       "      <td>1</td>\n",
       "      <td>1</td>\n",
       "    </tr>\n",
       "    <tr>\n",
       "      <th>10996</th>\n",
       "      <td>3</td>\n",
       "      <td>1</td>\n",
       "      <td>3</td>\n",
       "      <td>11</td>\n",
       "      <td>2194</td>\n",
       "      <td>F</td>\n",
       "      <td>Flight</td>\n",
       "      <td>2</td>\n",
       "      <td>M</td>\n",
       "      <td>1</td>\n",
       "      <td>1</td>\n",
       "    </tr>\n",
       "    <tr>\n",
       "      <th>10997</th>\n",
       "      <td>4</td>\n",
       "      <td>3</td>\n",
       "      <td>3</td>\n",
       "      <td>8</td>\n",
       "      <td>3318</td>\n",
       "      <td>B</td>\n",
       "      <td>Ship</td>\n",
       "      <td>2</td>\n",
       "      <td>M</td>\n",
       "      <td>1</td>\n",
       "      <td>1</td>\n",
       "    </tr>\n",
       "  </tbody>\n",
       "</table>\n",
       "<p>10998 rows × 11 columns</p>\n",
       "</div>"
      ],
      "text/plain": [
       "       Chamadas de atendimento ao cliente  Avaliação do cliente  \\\n",
       "0                                       5                     4   \n",
       "1                                       4                     3   \n",
       "2                                       3                     4   \n",
       "3                                       3                     1   \n",
       "4                                       7                     5   \n",
       "...                                   ...                   ...   \n",
       "10993                                   3                     5   \n",
       "10994                                   4                     1   \n",
       "10995                                   3                     2   \n",
       "10996                                   3                     1   \n",
       "10997                                   4                     3   \n",
       "\n",
       "       Compras anteriores  Desconto oferecido  Peso em gramas  \\\n",
       "0                       2                  10            5395   \n",
       "1                       2                   6            5867   \n",
       "2                       2                   2            5957   \n",
       "3                       2                  27            2551   \n",
       "4                       4                   9            1329   \n",
       "...                   ...                 ...             ...   \n",
       "10993                   3                   1            5024   \n",
       "10994                   5                  48            2399   \n",
       "10995                  10                  25            1548   \n",
       "10996                   3                  11            2194   \n",
       "10997                   3                   8            3318   \n",
       "\n",
       "      Local armazenado Modo de envio Importância do produto Gênero  Classe  \\\n",
       "0                    A          Ship                      2      M       1   \n",
       "1                    F          Ship                      2      F       0   \n",
       "2                    D          Ship                      2      M       0   \n",
       "3                    D          Ship                      2      M       1   \n",
       "4                    B          Ship                      2      M       1   \n",
       "...                ...           ...                    ...    ...     ...   \n",
       "10993                F          Road                      2      M       1   \n",
       "10994                D        Flight                      1      M       1   \n",
       "10995                F          Ship                      2      M       1   \n",
       "10996                F        Flight                      2      M       1   \n",
       "10997                B          Ship                      2      M       1   \n",
       "\n",
       "       Código  \n",
       "0           1  \n",
       "1           1  \n",
       "2           1  \n",
       "3           1  \n",
       "4           1  \n",
       "...       ...  \n",
       "10993       1  \n",
       "10994       1  \n",
       "10995       1  \n",
       "10996       1  \n",
       "10997       1  \n",
       "\n",
       "[10998 rows x 11 columns]"
      ]
     },
     "execution_count": 24,
     "metadata": {},
     "output_type": "execute_result"
    }
   ],
   "source": [
    "base"
   ]
  },
  {
   "cell_type": "code",
   "execution_count": 25,
   "id": "1700686e",
   "metadata": {},
   "outputs": [
    {
     "data": {
      "text/plain": [
       "3633"
      ]
     },
     "execution_count": 25,
     "metadata": {},
     "output_type": "execute_result"
    }
   ],
   "source": [
    "int(base['Peso em gramas'].mean())"
   ]
  },
  {
   "cell_type": "code",
   "execution_count": 26,
   "id": "d0d0dfb5",
   "metadata": {},
   "outputs": [],
   "source": [
    "envioXlocal = base[['Modo de envio','Local armazenado','Código']]"
   ]
  },
  {
   "cell_type": "code",
   "execution_count": 27,
   "id": "b3e2aec3",
   "metadata": {},
   "outputs": [],
   "source": [
    "envioXlocal.loc[envioXlocal['Local armazenado']=='A','Local armazenado'] = 1\n",
    "envioXlocal.loc[envioXlocal['Local armazenado']=='B','Local armazenado'] = 2\n",
    "envioXlocal.loc[envioXlocal['Local armazenado']=='C','Local armazenado'] = 3\n",
    "envioXlocal.loc[envioXlocal['Local armazenado']=='D','Local armazenado'] = 4\n",
    "envioXlocal.loc[envioXlocal['Local armazenado']=='F','Local armazenado'] = 6"
   ]
  },
  {
   "cell_type": "code",
   "execution_count": 28,
   "id": "0934aeff",
   "metadata": {},
   "outputs": [],
   "source": [
    "# envioXlocal = envioXlocal.groupby('Modo de envio')[['Local armazenado','Código']].value_counts()"
   ]
  },
  {
   "cell_type": "code",
   "execution_count": 29,
   "id": "314e72eb",
   "metadata": {},
   "outputs": [
    {
     "data": {
      "text/html": [
       "<div>\n",
       "<style scoped>\n",
       "    .dataframe tbody tr th:only-of-type {\n",
       "        vertical-align: middle;\n",
       "    }\n",
       "\n",
       "    .dataframe tbody tr th {\n",
       "        vertical-align: top;\n",
       "    }\n",
       "\n",
       "    .dataframe thead th {\n",
       "        text-align: right;\n",
       "    }\n",
       "</style>\n",
       "<table border=\"1\" class=\"dataframe\">\n",
       "  <thead>\n",
       "    <tr style=\"text-align: right;\">\n",
       "      <th></th>\n",
       "      <th>Modo de envio</th>\n",
       "      <th>Local armazenado</th>\n",
       "      <th>Código</th>\n",
       "    </tr>\n",
       "  </thead>\n",
       "  <tbody>\n",
       "    <tr>\n",
       "      <th>0</th>\n",
       "      <td>Ship</td>\n",
       "      <td>1</td>\n",
       "      <td>1</td>\n",
       "    </tr>\n",
       "    <tr>\n",
       "      <th>1</th>\n",
       "      <td>Ship</td>\n",
       "      <td>6</td>\n",
       "      <td>1</td>\n",
       "    </tr>\n",
       "    <tr>\n",
       "      <th>2</th>\n",
       "      <td>Ship</td>\n",
       "      <td>4</td>\n",
       "      <td>1</td>\n",
       "    </tr>\n",
       "    <tr>\n",
       "      <th>3</th>\n",
       "      <td>Ship</td>\n",
       "      <td>4</td>\n",
       "      <td>1</td>\n",
       "    </tr>\n",
       "    <tr>\n",
       "      <th>4</th>\n",
       "      <td>Ship</td>\n",
       "      <td>2</td>\n",
       "      <td>1</td>\n",
       "    </tr>\n",
       "    <tr>\n",
       "      <th>...</th>\n",
       "      <td>...</td>\n",
       "      <td>...</td>\n",
       "      <td>...</td>\n",
       "    </tr>\n",
       "    <tr>\n",
       "      <th>10993</th>\n",
       "      <td>Road</td>\n",
       "      <td>6</td>\n",
       "      <td>1</td>\n",
       "    </tr>\n",
       "    <tr>\n",
       "      <th>10994</th>\n",
       "      <td>Flight</td>\n",
       "      <td>4</td>\n",
       "      <td>1</td>\n",
       "    </tr>\n",
       "    <tr>\n",
       "      <th>10995</th>\n",
       "      <td>Ship</td>\n",
       "      <td>6</td>\n",
       "      <td>1</td>\n",
       "    </tr>\n",
       "    <tr>\n",
       "      <th>10996</th>\n",
       "      <td>Flight</td>\n",
       "      <td>6</td>\n",
       "      <td>1</td>\n",
       "    </tr>\n",
       "    <tr>\n",
       "      <th>10997</th>\n",
       "      <td>Ship</td>\n",
       "      <td>2</td>\n",
       "      <td>1</td>\n",
       "    </tr>\n",
       "  </tbody>\n",
       "</table>\n",
       "<p>10998 rows × 3 columns</p>\n",
       "</div>"
      ],
      "text/plain": [
       "      Modo de envio Local armazenado  Código\n",
       "0              Ship                1       1\n",
       "1              Ship                6       1\n",
       "2              Ship                4       1\n",
       "3              Ship                4       1\n",
       "4              Ship                2       1\n",
       "...             ...              ...     ...\n",
       "10993          Road                6       1\n",
       "10994        Flight                4       1\n",
       "10995          Ship                6       1\n",
       "10996        Flight                6       1\n",
       "10997          Ship                2       1\n",
       "\n",
       "[10998 rows x 3 columns]"
      ]
     },
     "execution_count": 29,
     "metadata": {},
     "output_type": "execute_result"
    }
   ],
   "source": [
    "envioXlocal"
   ]
  },
  {
   "cell_type": "code",
   "execution_count": 30,
   "id": "a44f87c5",
   "metadata": {},
   "outputs": [
    {
     "data": {
      "text/plain": [
       "F    3666\n",
       "D    1834\n",
       "B    1833\n",
       "C    1833\n",
       "A    1832\n",
       "Name: Local armazenado, dtype: int64"
      ]
     },
     "execution_count": 30,
     "metadata": {},
     "output_type": "execute_result"
    }
   ],
   "source": [
    "base['Local armazenado'].value_counts()"
   ]
  },
  {
   "cell_type": "code",
   "execution_count": 31,
   "id": "a4e1763e",
   "metadata": {},
   "outputs": [
    {
     "data": {
      "text/plain": [
       "Ship      7461\n",
       "Flight    1777\n",
       "Road      1760\n",
       "Name: Modo de envio, dtype: int64"
      ]
     },
     "execution_count": 31,
     "metadata": {},
     "output_type": "execute_result"
    }
   ],
   "source": [
    "base['Modo de envio'].value_counts()"
   ]
  },
  {
   "cell_type": "code",
   "execution_count": 32,
   "id": "f4a71297",
   "metadata": {},
   "outputs": [],
   "source": [
    "aux1 = envioXlocal[envioXlocal['Modo de envio']=='Ship']"
   ]
  },
  {
   "cell_type": "code",
   "execution_count": 33,
   "id": "26311de7",
   "metadata": {},
   "outputs": [],
   "source": [
    "aux1=aux1.drop('Código',axis=1)"
   ]
  },
  {
   "cell_type": "code",
   "execution_count": 34,
   "id": "088ad887",
   "metadata": {},
   "outputs": [],
   "source": [
    " aux1 = aux1.value_counts()"
   ]
  },
  {
   "cell_type": "code",
   "execution_count": 35,
   "id": "d8fd7801",
   "metadata": {},
   "outputs": [
    {
     "data": {
      "text/plain": [
       "<AxesSubplot:ylabel='None'>"
      ]
     },
     "execution_count": 35,
     "metadata": {},
     "output_type": "execute_result"
    },
    {
     "data": {
      "image/png": "[encoded data removed]",
      "text/plain": [
       "<Figure size 640x480 with 1 Axes>"
      ]
     },
     "metadata": {},
     "output_type": "display_data"
    }
   ],
   "source": [
    "aux1.plot(kind='pie')"
   ]
  },
  {
   "cell_type": "code",
   "execution_count": 36,
   "id": "51ec77fc",
   "metadata": {},
   "outputs": [],
   "source": [
    "aux1 = aux1.apply(lambda x:(x / aux1.sum())*100)\n",
    "aux1 =aux1.map('{:.1f}%'.format)"
   ]
  },
  {
   "cell_type": "code",
   "execution_count": 37,
   "id": "ecb33f4b",
   "metadata": {},
   "outputs": [
    {
     "data": {
      "text/plain": [
       "Modo de envio  Local armazenado\n",
       "Ship           6                   33.3%\n",
       "               4                   16.7%\n",
       "               3                   16.7%\n",
       "               2                   16.7%\n",
       "               1                   16.6%\n",
       "dtype: object"
      ]
     },
     "execution_count": 37,
     "metadata": {},
     "output_type": "execute_result"
    }
   ],
   "source": [
    "aux1"
   ]
  },
  {
   "cell_type": "code",
   "execution_count": 38,
   "id": "2a545d10",
   "metadata": {},
   "outputs": [],
   "source": [
    "envioXimp = base[['Modo de envio','Importância do produto']]"
   ]
  },
  {
   "cell_type": "code",
   "execution_count": 39,
   "id": "24741c82",
   "metadata": {},
   "outputs": [],
   "source": [
    "# envioXimp = envioXimp.groupby('Importância do produto').value_counts()"
   ]
  },
  {
   "cell_type": "code",
   "execution_count": 40,
   "id": "7b2ca6c2",
   "metadata": {},
   "outputs": [
    {
     "data": {
      "text/html": [
       "<div>\n",
       "<style scoped>\n",
       "    .dataframe tbody tr th:only-of-type {\n",
       "        vertical-align: middle;\n",
       "    }\n",
       "\n",
       "    .dataframe tbody tr th {\n",
       "        vertical-align: top;\n",
       "    }\n",
       "\n",
       "    .dataframe thead th {\n",
       "        text-align: right;\n",
       "    }\n",
       "</style>\n",
       "<table border=\"1\" class=\"dataframe\">\n",
       "  <thead>\n",
       "    <tr style=\"text-align: right;\">\n",
       "      <th></th>\n",
       "      <th>Modo de envio</th>\n",
       "      <th>Importância do produto</th>\n",
       "    </tr>\n",
       "  </thead>\n",
       "  <tbody>\n",
       "    <tr>\n",
       "      <th>0</th>\n",
       "      <td>Ship</td>\n",
       "      <td>2</td>\n",
       "    </tr>\n",
       "    <tr>\n",
       "      <th>1</th>\n",
       "      <td>Ship</td>\n",
       "      <td>2</td>\n",
       "    </tr>\n",
       "    <tr>\n",
       "      <th>2</th>\n",
       "      <td>Ship</td>\n",
       "      <td>2</td>\n",
       "    </tr>\n",
       "    <tr>\n",
       "      <th>3</th>\n",
       "      <td>Ship</td>\n",
       "      <td>2</td>\n",
       "    </tr>\n",
       "    <tr>\n",
       "      <th>4</th>\n",
       "      <td>Ship</td>\n",
       "      <td>2</td>\n",
       "    </tr>\n",
       "    <tr>\n",
       "      <th>...</th>\n",
       "      <td>...</td>\n",
       "      <td>...</td>\n",
       "    </tr>\n",
       "    <tr>\n",
       "      <th>10993</th>\n",
       "      <td>Road</td>\n",
       "      <td>2</td>\n",
       "    </tr>\n",
       "    <tr>\n",
       "      <th>10994</th>\n",
       "      <td>Flight</td>\n",
       "      <td>1</td>\n",
       "    </tr>\n",
       "    <tr>\n",
       "      <th>10995</th>\n",
       "      <td>Ship</td>\n",
       "      <td>2</td>\n",
       "    </tr>\n",
       "    <tr>\n",
       "      <th>10996</th>\n",
       "      <td>Flight</td>\n",
       "      <td>2</td>\n",
       "    </tr>\n",
       "    <tr>\n",
       "      <th>10997</th>\n",
       "      <td>Ship</td>\n",
       "      <td>2</td>\n",
       "    </tr>\n",
       "  </tbody>\n",
       "</table>\n",
       "<p>10998 rows × 2 columns</p>\n",
       "</div>"
      ],
      "text/plain": [
       "      Modo de envio Importância do produto\n",
       "0              Ship                      2\n",
       "1              Ship                      2\n",
       "2              Ship                      2\n",
       "3              Ship                      2\n",
       "4              Ship                      2\n",
       "...             ...                    ...\n",
       "10993          Road                      2\n",
       "10994        Flight                      1\n",
       "10995          Ship                      2\n",
       "10996        Flight                      2\n",
       "10997          Ship                      2\n",
       "\n",
       "[10998 rows x 2 columns]"
      ]
     },
     "execution_count": 40,
     "metadata": {},
     "output_type": "execute_result"
    }
   ],
   "source": [
    "envioXimp"
   ]
  },
  {
   "cell_type": "code",
   "execution_count": 41,
   "id": "d4ead81f",
   "metadata": {},
   "outputs": [],
   "source": [
    "aux2=envioXimp[envioXimp['Importância do produto']==1]"
   ]
  },
  {
   "cell_type": "code",
   "execution_count": 48,
   "id": "0e3c54be",
   "metadata": {},
   "outputs": [
    {
     "data": {
      "text/plain": [
       "Modo de envio       \n",
       "Flight         15.8%    1\n",
       "Road           16.2%    1\n",
       "Ship           68.0%    1\n",
       "dtype: int64"
      ]
     },
     "execution_count": 48,
     "metadata": {},
     "output_type": "execute_result"
    }
   ],
   "source": [
    "aux2 = aux2.groupby('Modo de envio').value_counts()\n",
    "aux2"
   ]
  },
  {
   "cell_type": "code",
   "execution_count": 43,
   "id": "35f3a447",
   "metadata": {},
   "outputs": [],
   "source": [
    "aux2 = aux2.apply(lambda x:(x / aux2.sum())*100)\n",
    "aux2 = aux2.map('{:.1f}%'.format)"
   ]
  },
  {
   "cell_type": "code",
   "execution_count": 44,
   "id": "660466bf",
   "metadata": {},
   "outputs": [
    {
     "data": {
      "text/plain": [
       "Modo de envio  Importância do produto\n",
       "Flight         1                         15.8%\n",
       "Road           1                         16.2%\n",
       "Ship           1                         68.0%\n",
       "dtype: object"
      ]
     },
     "execution_count": 44,
     "metadata": {},
     "output_type": "execute_result"
    }
   ],
   "source": [
    "aux2"
   ]
  },
  {
   "cell_type": "code",
   "execution_count": 45,
   "id": "cf50236c",
   "metadata": {},
   "outputs": [
    {
     "data": {
      "text/plain": [
       "Modo de envio  Importância do produto\n",
       "Flight         2                         16.3%\n",
       "Road           2                         15.7%\n",
       "Ship           2                         68.0%\n",
       "dtype: object"
      ]
     },
     "execution_count": 45,
     "metadata": {},
     "output_type": "execute_result"
    }
   ],
   "source": [
    "aux3=envioXimp[envioXimp['Importância do produto']==2]\n",
    "aux3 = aux3.groupby('Modo de envio').value_counts()\n",
    "aux3 = aux3.apply(lambda x:(x / aux3.sum())*100)\n",
    "aux3 = aux3.map('{:.1f}%'.format)\n",
    "aux3"
   ]
  },
  {
   "cell_type": "code",
   "execution_count": 46,
   "id": "9d2e8325",
   "metadata": {},
   "outputs": [
    {
     "data": {
      "text/plain": [
       "Modo de envio  Importância do produto\n",
       "Flight         3                         17.2%\n",
       "Road           3                         16.7%\n",
       "Ship           3                         66.1%\n",
       "dtype: object"
      ]
     },
     "execution_count": 46,
     "metadata": {},
     "output_type": "execute_result"
    }
   ],
   "source": [
    "aux4=envioXimp[envioXimp['Importância do produto']==3]\n",
    "aux4 = aux4.groupby('Modo de envio').value_counts()\n",
    "aux4 = aux4.apply(lambda x:(x / aux4.sum())*100)\n",
    "aux4 = aux4.map('{:.1f}%'.format)\n",
    "aux4"
   ]
  },
  {
   "cell_type": "code",
   "execution_count": 47,
   "id": "9e096167",
   "metadata": {},
   "outputs": [
    {
     "data": {
      "text/html": [
       "<div>\n",
       "<style scoped>\n",
       "    .dataframe tbody tr th:only-of-type {\n",
       "        vertical-align: middle;\n",
       "    }\n",
       "\n",
       "    .dataframe tbody tr th {\n",
       "        vertical-align: top;\n",
       "    }\n",
       "\n",
       "    .dataframe thead th {\n",
       "        text-align: right;\n",
       "    }\n",
       "</style>\n",
       "<table border=\"1\" class=\"dataframe\">\n",
       "  <thead>\n",
       "    <tr style=\"text-align: right;\">\n",
       "      <th></th>\n",
       "      <th>Chamadas de atendimento ao cliente</th>\n",
       "      <th>Avaliação do cliente</th>\n",
       "      <th>Compras anteriores</th>\n",
       "      <th>Desconto oferecido</th>\n",
       "      <th>Peso em gramas</th>\n",
       "      <th>Classe</th>\n",
       "      <th>Código</th>\n",
       "    </tr>\n",
       "  </thead>\n",
       "  <tbody>\n",
       "    <tr>\n",
       "      <th>count</th>\n",
       "      <td>10998.000000</td>\n",
       "      <td>10998.000000</td>\n",
       "      <td>10998.000000</td>\n",
       "      <td>10998.000000</td>\n",
       "      <td>10998.000000</td>\n",
       "      <td>10998.000000</td>\n",
       "      <td>10998.0</td>\n",
       "    </tr>\n",
       "    <tr>\n",
       "      <th>mean</th>\n",
       "      <td>4.054555</td>\n",
       "      <td>2.990453</td>\n",
       "      <td>3.567558</td>\n",
       "      <td>13.373704</td>\n",
       "      <td>3633.873522</td>\n",
       "      <td>0.596745</td>\n",
       "      <td>1.0</td>\n",
       "    </tr>\n",
       "    <tr>\n",
       "      <th>std</th>\n",
       "      <td>1.141497</td>\n",
       "      <td>1.413635</td>\n",
       "      <td>1.522924</td>\n",
       "      <td>16.206183</td>\n",
       "      <td>1635.382636</td>\n",
       "      <td>0.490573</td>\n",
       "      <td>0.0</td>\n",
       "    </tr>\n",
       "    <tr>\n",
       "      <th>min</th>\n",
       "      <td>2.000000</td>\n",
       "      <td>1.000000</td>\n",
       "      <td>2.000000</td>\n",
       "      <td>1.000000</td>\n",
       "      <td>1001.000000</td>\n",
       "      <td>0.000000</td>\n",
       "      <td>1.0</td>\n",
       "    </tr>\n",
       "    <tr>\n",
       "      <th>25%</th>\n",
       "      <td>3.000000</td>\n",
       "      <td>2.000000</td>\n",
       "      <td>3.000000</td>\n",
       "      <td>4.000000</td>\n",
       "      <td>1839.250000</td>\n",
       "      <td>0.000000</td>\n",
       "      <td>1.0</td>\n",
       "    </tr>\n",
       "    <tr>\n",
       "      <th>50%</th>\n",
       "      <td>4.000000</td>\n",
       "      <td>3.000000</td>\n",
       "      <td>3.000000</td>\n",
       "      <td>7.000000</td>\n",
       "      <td>4149.000000</td>\n",
       "      <td>1.000000</td>\n",
       "      <td>1.0</td>\n",
       "    </tr>\n",
       "    <tr>\n",
       "      <th>75%</th>\n",
       "      <td>5.000000</td>\n",
       "      <td>4.000000</td>\n",
       "      <td>4.000000</td>\n",
       "      <td>10.000000</td>\n",
       "      <td>5049.750000</td>\n",
       "      <td>1.000000</td>\n",
       "      <td>1.0</td>\n",
       "    </tr>\n",
       "    <tr>\n",
       "      <th>max</th>\n",
       "      <td>7.000000</td>\n",
       "      <td>5.000000</td>\n",
       "      <td>10.000000</td>\n",
       "      <td>65.000000</td>\n",
       "      <td>7846.000000</td>\n",
       "      <td>1.000000</td>\n",
       "      <td>1.0</td>\n",
       "    </tr>\n",
       "  </tbody>\n",
       "</table>\n",
       "</div>"
      ],
      "text/plain": [
       "       Chamadas de atendimento ao cliente  Avaliação do cliente  \\\n",
       "count                        10998.000000          10998.000000   \n",
       "mean                             4.054555              2.990453   \n",
       "std                              1.141497              1.413635   \n",
       "min                              2.000000              1.000000   \n",
       "25%                              3.000000              2.000000   \n",
       "50%                              4.000000              3.000000   \n",
       "75%                              5.000000              4.000000   \n",
       "max                              7.000000              5.000000   \n",
       "\n",
       "       Compras anteriores  Desconto oferecido  Peso em gramas        Classe  \\\n",
       "count        10998.000000        10998.000000    10998.000000  10998.000000   \n",
       "mean             3.567558           13.373704     3633.873522      0.596745   \n",
       "std              1.522924           16.206183     1635.382636      0.490573   \n",
       "min              2.000000            1.000000     1001.000000      0.000000   \n",
       "25%              3.000000            4.000000     1839.250000      0.000000   \n",
       "50%              3.000000            7.000000     4149.000000      1.000000   \n",
       "75%              4.000000           10.000000     5049.750000      1.000000   \n",
       "max             10.000000           65.000000     7846.000000      1.000000   \n",
       "\n",
       "        Código  \n",
       "count  10998.0  \n",
       "mean       1.0  \n",
       "std        0.0  \n",
       "min        1.0  \n",
       "25%        1.0  \n",
       "50%        1.0  \n",
       "75%        1.0  \n",
       "max        1.0  "
      ]
     },
     "execution_count": 47,
     "metadata": {},
     "output_type": "execute_result"
    }
   ],
   "source": [
    "base.describe()"
   ]
  },
  {
   "cell_type": "code",
   "execution_count": null,
   "id": "764eea6b",
   "metadata": {},
   "outputs": [],
   "source": []
  }
 ],
 "metadata": {
  "kernelspec": {
   "display_name": "Python 3 (ipykernel)",
   "language": "python",
   "name": "python3"
  },
  "language_info": {
   "codemirror_mode": {
    "name": "ipython",
    "version": 3
   },
   "file_extension": ".py",
   "mimetype": "text/x-python",
   "name": "python",
   "nbconvert_exporter": "python",
   "pygments_lexer": "ipython3",
   "version": "3.9.13"
  }
 },
 "nbformat": 4,
 "nbformat_minor": 5
}
